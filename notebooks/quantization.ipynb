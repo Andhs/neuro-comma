{
 "cells": [
  {
   "cell_type": "code",
   "execution_count": 1,
   "metadata": {},
   "outputs": [],
   "source": [
    "import sys\n",
    "\n",
    "sys.path.insert(0, '../src')"
   ]
  },
  {
   "cell_type": "code",
   "execution_count": 2,
   "metadata": {},
   "outputs": [],
   "source": [
    "from pathlib import Path\n",
    "\n",
    "import torch\n",
    "\n",
    "from neuro_comma.predict import RepunctPredictor\n",
    "from neuro_comma.model import CorrectionModel"
   ]
  },
  {
   "cell_type": "code",
   "execution_count": 3,
   "metadata": {},
   "outputs": [
    {
     "data": {
      "text/plain": [
       "'Библиотека является некоторой надстройкой над catalyst, однако допускает использования своих train loop-ов, для применения библиотеки требуется лишь изменить forward моделей, а потому нет никакой привязки к домену использования/архитектуре.'"
      ]
     },
     "execution_count": 10,
     "metadata": {},
     "output_type": "execute_result"
    }
   ],
   "source": [
    "text = (\"Я расскажу о своем pet project библиотеки для уменьшения моделей compressors \"\n",
    "\"библиотека является некоторой надстройкой над catalyst однако допускает использования \"\n",
    "\"своих train loop-ов для применения библиотеки требуется лишь изменить forward моделей \"\n",
    "\"а потому нет никакой привязки к домену использования/архитектуре конвертация тоже не нужна \"\n",
    "\"хочется заметить что библиотека ортогональна к использованию различных специализированных \"\n",
    "\"библиотека типа onnx OpenVINO и так далее\")\n",
    "\n",
    "predictor(text)"
   ]
  },
  {
   "cell_type": "code",
   "execution_count": 4,
   "metadata": {},
   "outputs": [],
   "source": [
    "model = CorrectionModel(\n",
    "    pretrained_model=\"DeepPavlov/rubert-base-cased-sentence\",\n",
    "    targets={\n",
    "        \"O\": 0,\n",
    "        \"COMMA\": 1,\n",
    "        \"PERIOD\": 2\n",
    "    }\n",
    ")"
   ]
  },
  {
   "cell_type": "code",
   "execution_count": 5,
   "metadata": {},
   "outputs": [],
   "source": [
    "model.load('../models/repunct-model-new/weights/weights_ep6_9912.pt')"
   ]
  },
  {
   "cell_type": "code",
   "execution_count": 6,
   "metadata": {},
   "outputs": [],
   "source": [
    "quantized_model = model.quantize()"
   ]
  },
  {
   "cell_type": "code",
   "execution_count": 7,
   "metadata": {},
   "outputs": [],
   "source": [
    "predictor = RepunctPredictor(model_name='repunct-model-new',\n",
    "                             models_root=Path('../models'),\n",
    "                             model_weights='quantized_weights_ep6_9912.pt',\n",
    "                             quantization=True)"
   ]
  },
  {
   "cell_type": "code",
   "execution_count": 14,
   "metadata": {},
   "outputs": [
    {
     "data": {
      "text/plain": [
       "'Я расскажу о своем pet project библиотеки для уменьшения моделей, compressors, библиотека является некоторой надстройкой над catalyst, однако допускает использования своих train loop-ов, для применения библиотеки требуется лишь изменить forward моделей, а потому нет никакой привязки к домену, использования/архитектуре, конвертация тоже не нужна, хочется заметить, что библиотека ортогональна к использованию различных специализированных библиотека типа onnx, OpenVINO и так далее'"
      ]
     },
     "execution_count": 14,
     "metadata": {},
     "output_type": "execute_result"
    }
   ],
   "source": [
    "quantized_model.save('../models/repunct-model-new/weights/quantized_weights_ep6_9912.pt')"
   ]
  },
  {
   "cell_type": "code",
   "execution_count": null,
   "metadata": {},
   "outputs": [],
   "source": []
  }
 ],
 "metadata": {
  "language_info": {
   "name": "python",
   "nbconvert_exporter": "python"
  },
  "orig_nbformat": 4
 },
 "nbformat": 4,
 "nbformat_minor": 2
}